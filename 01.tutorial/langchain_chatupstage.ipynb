{
 "cells": [
  {
   "cell_type": "code",
   "execution_count": null,
   "id": "e6602d40",
   "metadata": {},
   "outputs": [],
   "source": [
    "%pip install python-dotenv langchain-upstage"
   ]
  },
  {
   "cell_type": "code",
   "execution_count": null,
   "id": "5172f2bc",
   "metadata": {},
   "outputs": [],
   "source": [
    "from dotenv import load_dotenv\n",
    "\n",
    "load_dotenv()"
   ]
  },
  {
   "cell_type": "code",
   "execution_count": 6,
   "id": "4d72cac6",
   "metadata": {},
   "outputs": [],
   "source": [
    "from langchain_upstage import ChatUpstage\n",
    "\n",
    "llm = ChatUpstage()\n",
    "ai_message = llm.invoke('인프런에 어떤 강의가 있나요?')"
   ]
  },
  {
   "cell_type": "code",
   "execution_count": null,
   "id": "4074e752",
   "metadata": {},
   "outputs": [],
   "source": [
    "ai_message.content"
   ]
  }
 ],
 "metadata": {
  "kernelspec": {
   "display_name": "inflearn-llm-application",
   "language": "python",
   "name": "python3"
  },
  "language_info": {
   "codemirror_mode": {
    "name": "ipython",
    "version": 3
   },
   "file_extension": ".py",
   "mimetype": "text/x-python",
   "name": "python",
   "nbconvert_exporter": "python",
   "pygments_lexer": "ipython3",
   "version": "3.13.5"
  }
 },
 "nbformat": 4,
 "nbformat_minor": 5
}
