{
 "cells": [
  {
   "cell_type": "code",
   "execution_count": null,
   "id": "e6602d40",
   "metadata": {},
   "outputs": [],
   "source": [
    "%pip install python-dotenv langchain-upstage"
   ]
  },
  {
   "cell_type": "code",
   "execution_count": 5,
   "id": "5172f2bc",
   "metadata": {},
   "outputs": [
    {
     "data": {
      "text/plain": [
       "True"
      ]
     },
     "execution_count": 5,
     "metadata": {},
     "output_type": "execute_result"
    }
   ],
   "source": [
    "from dotenv import load_dotenv\n",
    "\n",
    "load_dotenv()"
   ]
  },
  {
   "cell_type": "code",
   "execution_count": 6,
   "id": "4d72cac6",
   "metadata": {},
   "outputs": [],
   "source": [
    "from langchain_upstage import ChatUpstage\n",
    "\n",
    "llm = ChatUpstage()\n",
    "ai_message = llm.invoke('인프런에 어떤 강의가 있나요?')"
   ]
  },
  {
   "cell_type": "code",
   "execution_count": 7,
   "id": "4074e752",
   "metadata": {},
   "outputs": [
    {
     "data": {
      "text/plain": [
       "'인프런에는 다양한 분야의 강의가 있습니다. 주요 카테고리는 다음과 같습니다:\\n\\n1. **프로그래밍**: Python, Java, JavaScript, HTML/CSS, 웹 개발, 모바일 개발, 데이터베이스, 알고리즘 등\\n\\n2. **디자인**: UI/UX 디자인, 그래픽 디자인, 웹 디자인, 브랜드 디자인 등\\n\\n3. **데이터**: 데이터 분석, 머신러닝, 딥러닝, 데이터 시각화, SQL 등\\n\\n4. **비즈니스**: 마케팅, 경영, 재무, 창업, 프로젝트 관리 등\\n\\n5. **인문학**: 심리학, 철학, 역사, 문화 등\\n\\n6. **생활/취미**: 요리, 여행, 운동, 음악, 미술 등\\n\\n이 외에도 다양한 전문 분야의 강의가 제공되고 있으니, 인프런 웹사이트를 방문하거나 검색 기능을 사용하여 필요한 강의를 찾아보세요.'"
      ]
     },
     "execution_count": 7,
     "metadata": {},
     "output_type": "execute_result"
    }
   ],
   "source": [
    "ai_message.content"
   ]
  }
 ],
 "metadata": {
  "kernelspec": {
   "display_name": "inflearn-llm-application",
   "language": "python",
   "name": "python3"
  },
  "language_info": {
   "codemirror_mode": {
    "name": "ipython",
    "version": 3
   },
   "file_extension": ".py",
   "mimetype": "text/x-python",
   "name": "python",
   "nbconvert_exporter": "python",
   "pygments_lexer": "ipython3",
   "version": "3.13.5"
  }
 },
 "nbformat": 4,
 "nbformat_minor": 5
}
