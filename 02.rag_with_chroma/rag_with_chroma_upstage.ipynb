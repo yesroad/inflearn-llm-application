{
 "cells": [
  {
   "cell_type": "markdown",
   "id": "70cd6016",
   "metadata": {},
   "source": [
    "1. 문서의 내용을 읽는다 (docx2txt)\n",
    "2. 문서를 쪼갠다 (langchain-text-splitters)\n",
    "  - 토큰수 초과로 답변을 생성하지 못할수 있고\n",
    "  - 문서가 길면 (인풋이 길면) 답변 생성이 오래걸림\n",
    "3. 임베딩 -> 벡터 데이터베이스에 저장 (OpenAIEmbeddings, chroma)\n",
    "4. 질문이 있을 때, 백터 테이터베이스에 유사도 검색\n",
    "5. 유사도 검색으로 가져온 문서를 LLM에 질문과 같이 전달 (similarity_search)"
   ]
  },
  {
   "cell_type": "code",
   "execution_count": null,
   "id": "4673068d",
   "metadata": {},
   "outputs": [],
   "source": [
    "%pip install --upgrade --quiet  docx2txt langchain-community"
   ]
  },
  {
   "cell_type": "code",
   "execution_count": null,
   "id": "51014669",
   "metadata": {},
   "outputs": [],
   "source": [
    "%pip install -qU langchain-text-splitters"
   ]
  },
  {
   "cell_type": "code",
   "execution_count": 25,
   "id": "c95a2353",
   "metadata": {},
   "outputs": [],
   "source": [
    "from langchain_community.document_loaders import Docx2txtLoader\n",
    "from langchain_text_splitters import RecursiveCharacterTextSplitter\n",
    "\n",
    "text_splitter = RecursiveCharacterTextSplitter(\n",
    "  chunk_size=1500, # 하나의 청크가 가질수있는 토큰수\n",
    "  chunk_overlap=200 # 청크 간 중복 토큰수\n",
    ")\n",
    "\n",
    "loader = Docx2txtLoader(\"./tax.docx\")\n",
    "\n",
    "document_list = loader.load_and_split(text_splitter=text_splitter)"
   ]
  },
  {
   "cell_type": "code",
   "execution_count": null,
   "id": "f9f65e49",
   "metadata": {},
   "outputs": [],
   "source": [
    "len(document_list)"
   ]
  },
  {
   "cell_type": "code",
   "execution_count": 27,
   "id": "675cf99e",
   "metadata": {},
   "outputs": [],
   "source": [
    "from dotenv import load_dotenv\n",
    "from langchain_upstage import UpstageEmbeddings\n",
    "\n",
    "# 환경변수를 불러옴\n",
    "load_dotenv()\n",
    "\n",
    "# Upstage 에서 제공하는 Embedding Model을 활용해서 `chunk`를 vector화\n",
    "embedding = UpstageEmbeddings(model='embedding-query')"
   ]
  },
  {
   "cell_type": "code",
   "execution_count": null,
   "id": "3d18c47c",
   "metadata": {},
   "outputs": [],
   "source": [
    "%pip install langchain-chroma"
   ]
  },
  {
   "cell_type": "code",
   "execution_count": 29,
   "id": "c329a6e6",
   "metadata": {},
   "outputs": [],
   "source": [
    "from langchain_chroma import Chroma\n",
    "\n",
    "# ./chroma에 저장된 내용 가져와서 필요없는건 주석\n",
    "\n",
    "#database = Chroma.from_documents(documents=document_list, embedding=embedding, collection_name=\"chroma_tax\" persist_directory=\"./chroma\")\n",
    "database = Chroma(collection_name=\"chroma_tax\", persist_directory=\"./chroma\", embedding_function=embedding)"
   ]
  },
  {
   "cell_type": "code",
   "execution_count": 30,
   "id": "d6afbd0a",
   "metadata": {},
   "outputs": [],
   "source": [
    "query = '연봉 5천만원인 직장인의 소득세는 얼마인가요?'\n",
    "#retrieved_docs = database.similarity_search(query, k=3)"
   ]
  },
  {
   "cell_type": "code",
   "execution_count": 31,
   "id": "df6ea657",
   "metadata": {},
   "outputs": [],
   "source": [
    "# retrieved_docs"
   ]
  },
  {
   "cell_type": "code",
   "execution_count": 32,
   "id": "21db8d1f",
   "metadata": {},
   "outputs": [],
   "source": [
    "from langchain_upstage import ChatUpstage\n",
    "\n",
    "llm = ChatUpstage(model=\"solar-pro2\")\n"
   ]
  },
  {
   "cell_type": "code",
   "execution_count": 33,
   "id": "e580ed21",
   "metadata": {},
   "outputs": [],
   "source": [
    "# prompt = f\"\"\"[Identity]\n",
    "# - 당신은 최고의 소득세 전문가 입니다\n",
    "# -[Context]를 참고해서 사용자의 질문에 답변해주세요\n",
    "\n",
    "# [Context]\n",
    "# {retrieved_docs}\n",
    "\n",
    "# Question: {query}\n",
    "# \"\"\""
   ]
  },
  {
   "cell_type": "code",
   "execution_count": 34,
   "id": "ed22ef5d",
   "metadata": {},
   "outputs": [],
   "source": [
    "# ai_message = llm.invoke(prompt)"
   ]
  },
  {
   "cell_type": "code",
   "execution_count": 35,
   "id": "be5a9487",
   "metadata": {},
   "outputs": [],
   "source": [
    "#ai_message.content"
   ]
  },
  {
   "cell_type": "code",
   "execution_count": null,
   "id": "34466f81",
   "metadata": {},
   "outputs": [],
   "source": [
    "%pip install -U langchain langchainhub --quiet"
   ]
  },
  {
   "cell_type": "code",
   "execution_count": null,
   "id": "4aadcbd9",
   "metadata": {},
   "outputs": [],
   "source": [
    "from langchain import hub\n",
    "\n",
    "prompt = hub.pull(\"rlm/rag-prompt\")"
   ]
  },
  {
   "cell_type": "code",
   "execution_count": null,
   "id": "691c5d6f",
   "metadata": {},
   "outputs": [],
   "source": [
    "prompt"
   ]
  },
  {
   "cell_type": "code",
   "execution_count": 39,
   "id": "45b58280",
   "metadata": {},
   "outputs": [],
   "source": [
    "from langchain.chains import RetrievalQA\n",
    "\n",
    "qa_chain = RetrievalQA.from_chain_type(\n",
    "  llm,\n",
    "  retriever=database.as_retriever(),\n",
    "  chain_type_kwargs={\"prompt\": prompt}\n",
    ")"
   ]
  },
  {
   "cell_type": "code",
   "execution_count": null,
   "id": "ca03c8e4",
   "metadata": {},
   "outputs": [],
   "source": [
    "ai_message = qa_chain({\"query\": query})"
   ]
  },
  {
   "cell_type": "code",
   "execution_count": null,
   "id": "208da03d",
   "metadata": {},
   "outputs": [],
   "source": [
    "ai_message"
   ]
  },
  {
   "cell_type": "code",
   "execution_count": null,
   "id": "3929027b",
   "metadata": {},
   "outputs": [],
   "source": []
  }
 ],
 "metadata": {
  "kernelspec": {
   "display_name": "inflearn-llm-application",
   "language": "python",
   "name": "python3"
  },
  "language_info": {
   "codemirror_mode": {
    "name": "ipython",
    "version": 3
   },
   "file_extension": ".py",
   "mimetype": "text/x-python",
   "name": "python",
   "nbconvert_exporter": "python",
   "pygments_lexer": "ipython3",
   "version": "3.13.5"
  }
 },
 "nbformat": 4,
 "nbformat_minor": 5
}
