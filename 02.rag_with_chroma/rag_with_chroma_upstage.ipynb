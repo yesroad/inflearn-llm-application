{
 "cells": [
  {
   "cell_type": "markdown",
   "id": "70cd6016",
   "metadata": {},
   "source": [
    "1. 문서의 내용을 읽는다 (docx2txt)\n",
    "2. 문서를 쪼갠다 (langchain-text-splitters)\n",
    "  - 토큰수 초과로 답변을 생성하지 못할수 있고\n",
    "  - 문서가 길면 (인풋이 길면) 답변 생성이 오래걸림\n",
    "3. 임베딩 -> 벡터 데이터베이스에 저장 (OpenAIEmbeddings, chroma)\n",
    "4. 질문이 있을 때, 백터 테이터베이스에 유사도 검색\n",
    "5. 유사도 검색으로 가져온 문서를 LLM에 질문과 같이 전달 (similarity_search)"
   ]
  },
  {
   "cell_type": "code",
   "execution_count": 23,
   "id": "4673068d",
   "metadata": {},
   "outputs": [
    {
     "name": "stdout",
     "output_type": "stream",
     "text": [
      "\n",
      "\u001b[1m[\u001b[0m\u001b[34;49mnotice\u001b[0m\u001b[1;39;49m]\u001b[0m\u001b[39;49m A new release of pip is available: \u001b[0m\u001b[31;49m25.1.1\u001b[0m\u001b[39;49m -> \u001b[0m\u001b[32;49m25.2\u001b[0m\n",
      "\u001b[1m[\u001b[0m\u001b[34;49mnotice\u001b[0m\u001b[1;39;49m]\u001b[0m\u001b[39;49m To update, run: \u001b[0m\u001b[32;49mpip install --upgrade pip\u001b[0m\n",
      "Note: you may need to restart the kernel to use updated packages.\n"
     ]
    }
   ],
   "source": [
    "%pip install --upgrade --quiet  docx2txt langchain-community"
   ]
  },
  {
   "cell_type": "code",
   "execution_count": 24,
   "id": "51014669",
   "metadata": {},
   "outputs": [
    {
     "name": "stdout",
     "output_type": "stream",
     "text": [
      "\n",
      "\u001b[1m[\u001b[0m\u001b[34;49mnotice\u001b[0m\u001b[1;39;49m]\u001b[0m\u001b[39;49m A new release of pip is available: \u001b[0m\u001b[31;49m25.1.1\u001b[0m\u001b[39;49m -> \u001b[0m\u001b[32;49m25.2\u001b[0m\n",
      "\u001b[1m[\u001b[0m\u001b[34;49mnotice\u001b[0m\u001b[1;39;49m]\u001b[0m\u001b[39;49m To update, run: \u001b[0m\u001b[32;49mpip install --upgrade pip\u001b[0m\n",
      "Note: you may need to restart the kernel to use updated packages.\n"
     ]
    }
   ],
   "source": [
    "%pip install -qU langchain-text-splitters"
   ]
  },
  {
   "cell_type": "code",
   "execution_count": 25,
   "id": "c95a2353",
   "metadata": {},
   "outputs": [],
   "source": [
    "from langchain_community.document_loaders import Docx2txtLoader\n",
    "from langchain_text_splitters import RecursiveCharacterTextSplitter\n",
    "\n",
    "text_splitter = RecursiveCharacterTextSplitter(\n",
    "  chunk_size=1500, # 하나의 청크가 가질수있는 토큰수\n",
    "  chunk_overlap=200 # 청크 간 중복 토큰수\n",
    ")\n",
    "\n",
    "loader = Docx2txtLoader(\"./tax.docx\")\n",
    "\n",
    "document_list = loader.load_and_split(text_splitter=text_splitter)"
   ]
  },
  {
   "cell_type": "code",
   "execution_count": 26,
   "id": "f9f65e49",
   "metadata": {},
   "outputs": [
    {
     "data": {
      "text/plain": [
       "183"
      ]
     },
     "execution_count": 26,
     "metadata": {},
     "output_type": "execute_result"
    }
   ],
   "source": [
    "len(document_list)"
   ]
  },
  {
   "cell_type": "code",
   "execution_count": 27,
   "id": "675cf99e",
   "metadata": {},
   "outputs": [],
   "source": [
    "from dotenv import load_dotenv\n",
    "from langchain_upstage import UpstageEmbeddings\n",
    "\n",
    "# 환경변수를 불러옴\n",
    "load_dotenv()\n",
    "\n",
    "# Upstage 에서 제공하는 Embedding Model을 활용해서 `chunk`를 vector화\n",
    "embedding = UpstageEmbeddings(model='embedding-query')"
   ]
  },
  {
   "cell_type": "code",
   "execution_count": 28,
   "id": "3d18c47c",
   "metadata": {},
   "outputs": [
    {
     "name": "stdout",
     "output_type": "stream",
     "text": [
      "Requirement already satisfied: langchain-chroma in /Users/gim-eung-gil/.pyenv/versions/3.13.5/envs/inflearn-llm-application/lib/python3.13/site-packages (0.2.5)\n",
      "Requirement already satisfied: langchain-core>=0.3.70 in /Users/gim-eung-gil/.pyenv/versions/3.13.5/envs/inflearn-llm-application/lib/python3.13/site-packages (from langchain-chroma) (0.3.72)\n",
      "Requirement already satisfied: numpy>=2.1.0 in /Users/gim-eung-gil/.pyenv/versions/3.13.5/envs/inflearn-llm-application/lib/python3.13/site-packages (from langchain-chroma) (2.3.2)\n",
      "Requirement already satisfied: chromadb>=1.0.9 in /Users/gim-eung-gil/.pyenv/versions/3.13.5/envs/inflearn-llm-application/lib/python3.13/site-packages (from langchain-chroma) (1.0.15)\n",
      "Requirement already satisfied: build>=1.0.3 in /Users/gim-eung-gil/.pyenv/versions/3.13.5/envs/inflearn-llm-application/lib/python3.13/site-packages (from chromadb>=1.0.9->langchain-chroma) (1.3.0)\n",
      "Requirement already satisfied: pydantic>=1.9 in /Users/gim-eung-gil/.pyenv/versions/3.13.5/envs/inflearn-llm-application/lib/python3.13/site-packages (from chromadb>=1.0.9->langchain-chroma) (2.11.7)\n",
      "Requirement already satisfied: pybase64>=1.4.1 in /Users/gim-eung-gil/.pyenv/versions/3.13.5/envs/inflearn-llm-application/lib/python3.13/site-packages (from chromadb>=1.0.9->langchain-chroma) (1.4.2)\n",
      "Requirement already satisfied: uvicorn>=0.18.3 in /Users/gim-eung-gil/.pyenv/versions/3.13.5/envs/inflearn-llm-application/lib/python3.13/site-packages (from uvicorn[standard]>=0.18.3->chromadb>=1.0.9->langchain-chroma) (0.35.0)\n",
      "Requirement already satisfied: posthog<6.0.0,>=2.4.0 in /Users/gim-eung-gil/.pyenv/versions/3.13.5/envs/inflearn-llm-application/lib/python3.13/site-packages (from chromadb>=1.0.9->langchain-chroma) (5.4.0)\n",
      "Requirement already satisfied: typing-extensions>=4.5.0 in /Users/gim-eung-gil/.pyenv/versions/3.13.5/envs/inflearn-llm-application/lib/python3.13/site-packages (from chromadb>=1.0.9->langchain-chroma) (4.14.1)\n",
      "Requirement already satisfied: onnxruntime>=1.14.1 in /Users/gim-eung-gil/.pyenv/versions/3.13.5/envs/inflearn-llm-application/lib/python3.13/site-packages (from chromadb>=1.0.9->langchain-chroma) (1.22.1)\n",
      "Requirement already satisfied: opentelemetry-api>=1.2.0 in /Users/gim-eung-gil/.pyenv/versions/3.13.5/envs/inflearn-llm-application/lib/python3.13/site-packages (from chromadb>=1.0.9->langchain-chroma) (1.36.0)\n",
      "Requirement already satisfied: opentelemetry-exporter-otlp-proto-grpc>=1.2.0 in /Users/gim-eung-gil/.pyenv/versions/3.13.5/envs/inflearn-llm-application/lib/python3.13/site-packages (from chromadb>=1.0.9->langchain-chroma) (1.36.0)\n",
      "Requirement already satisfied: opentelemetry-sdk>=1.2.0 in /Users/gim-eung-gil/.pyenv/versions/3.13.5/envs/inflearn-llm-application/lib/python3.13/site-packages (from chromadb>=1.0.9->langchain-chroma) (1.36.0)\n",
      "Requirement already satisfied: tokenizers>=0.13.2 in /Users/gim-eung-gil/.pyenv/versions/3.13.5/envs/inflearn-llm-application/lib/python3.13/site-packages (from chromadb>=1.0.9->langchain-chroma) (0.20.3)\n",
      "Requirement already satisfied: pypika>=0.48.9 in /Users/gim-eung-gil/.pyenv/versions/3.13.5/envs/inflearn-llm-application/lib/python3.13/site-packages (from chromadb>=1.0.9->langchain-chroma) (0.48.9)\n",
      "Requirement already satisfied: tqdm>=4.65.0 in /Users/gim-eung-gil/.pyenv/versions/3.13.5/envs/inflearn-llm-application/lib/python3.13/site-packages (from chromadb>=1.0.9->langchain-chroma) (4.67.1)\n",
      "Requirement already satisfied: overrides>=7.3.1 in /Users/gim-eung-gil/.pyenv/versions/3.13.5/envs/inflearn-llm-application/lib/python3.13/site-packages (from chromadb>=1.0.9->langchain-chroma) (7.7.0)\n",
      "Requirement already satisfied: importlib-resources in /Users/gim-eung-gil/.pyenv/versions/3.13.5/envs/inflearn-llm-application/lib/python3.13/site-packages (from chromadb>=1.0.9->langchain-chroma) (6.5.2)\n",
      "Requirement already satisfied: grpcio>=1.58.0 in /Users/gim-eung-gil/.pyenv/versions/3.13.5/envs/inflearn-llm-application/lib/python3.13/site-packages (from chromadb>=1.0.9->langchain-chroma) (1.74.0)\n",
      "Requirement already satisfied: bcrypt>=4.0.1 in /Users/gim-eung-gil/.pyenv/versions/3.13.5/envs/inflearn-llm-application/lib/python3.13/site-packages (from chromadb>=1.0.9->langchain-chroma) (4.3.0)\n",
      "Requirement already satisfied: typer>=0.9.0 in /Users/gim-eung-gil/.pyenv/versions/3.13.5/envs/inflearn-llm-application/lib/python3.13/site-packages (from chromadb>=1.0.9->langchain-chroma) (0.16.0)\n",
      "Requirement already satisfied: kubernetes>=28.1.0 in /Users/gim-eung-gil/.pyenv/versions/3.13.5/envs/inflearn-llm-application/lib/python3.13/site-packages (from chromadb>=1.0.9->langchain-chroma) (33.1.0)\n",
      "Requirement already satisfied: tenacity>=8.2.3 in /Users/gim-eung-gil/.pyenv/versions/3.13.5/envs/inflearn-llm-application/lib/python3.13/site-packages (from chromadb>=1.0.9->langchain-chroma) (9.1.2)\n",
      "Requirement already satisfied: pyyaml>=6.0.0 in /Users/gim-eung-gil/.pyenv/versions/3.13.5/envs/inflearn-llm-application/lib/python3.13/site-packages (from chromadb>=1.0.9->langchain-chroma) (6.0.2)\n",
      "Requirement already satisfied: mmh3>=4.0.1 in /Users/gim-eung-gil/.pyenv/versions/3.13.5/envs/inflearn-llm-application/lib/python3.13/site-packages (from chromadb>=1.0.9->langchain-chroma) (5.2.0)\n",
      "Requirement already satisfied: orjson>=3.9.12 in /Users/gim-eung-gil/.pyenv/versions/3.13.5/envs/inflearn-llm-application/lib/python3.13/site-packages (from chromadb>=1.0.9->langchain-chroma) (3.11.1)\n",
      "Requirement already satisfied: httpx>=0.27.0 in /Users/gim-eung-gil/.pyenv/versions/3.13.5/envs/inflearn-llm-application/lib/python3.13/site-packages (from chromadb>=1.0.9->langchain-chroma) (0.28.1)\n",
      "Requirement already satisfied: rich>=10.11.0 in /Users/gim-eung-gil/.pyenv/versions/3.13.5/envs/inflearn-llm-application/lib/python3.13/site-packages (from chromadb>=1.0.9->langchain-chroma) (14.1.0)\n",
      "Requirement already satisfied: jsonschema>=4.19.0 in /Users/gim-eung-gil/.pyenv/versions/3.13.5/envs/inflearn-llm-application/lib/python3.13/site-packages (from chromadb>=1.0.9->langchain-chroma) (4.25.0)\n",
      "Requirement already satisfied: requests<3.0,>=2.7 in /Users/gim-eung-gil/.pyenv/versions/3.13.5/envs/inflearn-llm-application/lib/python3.13/site-packages (from posthog<6.0.0,>=2.4.0->chromadb>=1.0.9->langchain-chroma) (2.32.4)\n",
      "Requirement already satisfied: six>=1.5 in /Users/gim-eung-gil/.pyenv/versions/3.13.5/envs/inflearn-llm-application/lib/python3.13/site-packages (from posthog<6.0.0,>=2.4.0->chromadb>=1.0.9->langchain-chroma) (1.17.0)\n",
      "Requirement already satisfied: python-dateutil>=2.2 in /Users/gim-eung-gil/.pyenv/versions/3.13.5/envs/inflearn-llm-application/lib/python3.13/site-packages (from posthog<6.0.0,>=2.4.0->chromadb>=1.0.9->langchain-chroma) (2.9.0.post0)\n",
      "Requirement already satisfied: backoff>=1.10.0 in /Users/gim-eung-gil/.pyenv/versions/3.13.5/envs/inflearn-llm-application/lib/python3.13/site-packages (from posthog<6.0.0,>=2.4.0->chromadb>=1.0.9->langchain-chroma) (2.2.1)\n",
      "Requirement already satisfied: distro>=1.5.0 in /Users/gim-eung-gil/.pyenv/versions/3.13.5/envs/inflearn-llm-application/lib/python3.13/site-packages (from posthog<6.0.0,>=2.4.0->chromadb>=1.0.9->langchain-chroma) (1.9.0)\n",
      "Requirement already satisfied: charset_normalizer<4,>=2 in /Users/gim-eung-gil/.pyenv/versions/3.13.5/envs/inflearn-llm-application/lib/python3.13/site-packages (from requests<3.0,>=2.7->posthog<6.0.0,>=2.4.0->chromadb>=1.0.9->langchain-chroma) (3.4.2)\n",
      "Requirement already satisfied: idna<4,>=2.5 in /Users/gim-eung-gil/.pyenv/versions/3.13.5/envs/inflearn-llm-application/lib/python3.13/site-packages (from requests<3.0,>=2.7->posthog<6.0.0,>=2.4.0->chromadb>=1.0.9->langchain-chroma) (3.10)\n",
      "Requirement already satisfied: urllib3<3,>=1.21.1 in /Users/gim-eung-gil/.pyenv/versions/3.13.5/envs/inflearn-llm-application/lib/python3.13/site-packages (from requests<3.0,>=2.7->posthog<6.0.0,>=2.4.0->chromadb>=1.0.9->langchain-chroma) (2.5.0)\n",
      "Requirement already satisfied: certifi>=2017.4.17 in /Users/gim-eung-gil/.pyenv/versions/3.13.5/envs/inflearn-llm-application/lib/python3.13/site-packages (from requests<3.0,>=2.7->posthog<6.0.0,>=2.4.0->chromadb>=1.0.9->langchain-chroma) (2025.8.3)\n",
      "Requirement already satisfied: packaging>=19.1 in /Users/gim-eung-gil/.pyenv/versions/3.13.5/envs/inflearn-llm-application/lib/python3.13/site-packages (from build>=1.0.3->chromadb>=1.0.9->langchain-chroma) (24.2)\n",
      "Requirement already satisfied: pyproject_hooks in /Users/gim-eung-gil/.pyenv/versions/3.13.5/envs/inflearn-llm-application/lib/python3.13/site-packages (from build>=1.0.3->chromadb>=1.0.9->langchain-chroma) (1.2.0)\n",
      "Requirement already satisfied: anyio in /Users/gim-eung-gil/.pyenv/versions/3.13.5/envs/inflearn-llm-application/lib/python3.13/site-packages (from httpx>=0.27.0->chromadb>=1.0.9->langchain-chroma) (4.9.0)\n",
      "Requirement already satisfied: httpcore==1.* in /Users/gim-eung-gil/.pyenv/versions/3.13.5/envs/inflearn-llm-application/lib/python3.13/site-packages (from httpx>=0.27.0->chromadb>=1.0.9->langchain-chroma) (1.0.9)\n",
      "Requirement already satisfied: h11>=0.16 in /Users/gim-eung-gil/.pyenv/versions/3.13.5/envs/inflearn-llm-application/lib/python3.13/site-packages (from httpcore==1.*->httpx>=0.27.0->chromadb>=1.0.9->langchain-chroma) (0.16.0)\n",
      "Requirement already satisfied: attrs>=22.2.0 in /Users/gim-eung-gil/.pyenv/versions/3.13.5/envs/inflearn-llm-application/lib/python3.13/site-packages (from jsonschema>=4.19.0->chromadb>=1.0.9->langchain-chroma) (25.3.0)\n",
      "Requirement already satisfied: jsonschema-specifications>=2023.03.6 in /Users/gim-eung-gil/.pyenv/versions/3.13.5/envs/inflearn-llm-application/lib/python3.13/site-packages (from jsonschema>=4.19.0->chromadb>=1.0.9->langchain-chroma) (2025.4.1)\n",
      "Requirement already satisfied: referencing>=0.28.4 in /Users/gim-eung-gil/.pyenv/versions/3.13.5/envs/inflearn-llm-application/lib/python3.13/site-packages (from jsonschema>=4.19.0->chromadb>=1.0.9->langchain-chroma) (0.36.2)\n",
      "Requirement already satisfied: rpds-py>=0.7.1 in /Users/gim-eung-gil/.pyenv/versions/3.13.5/envs/inflearn-llm-application/lib/python3.13/site-packages (from jsonschema>=4.19.0->chromadb>=1.0.9->langchain-chroma) (0.26.0)\n",
      "Requirement already satisfied: google-auth>=1.0.1 in /Users/gim-eung-gil/.pyenv/versions/3.13.5/envs/inflearn-llm-application/lib/python3.13/site-packages (from kubernetes>=28.1.0->chromadb>=1.0.9->langchain-chroma) (2.40.3)\n",
      "Requirement already satisfied: websocket-client!=0.40.0,!=0.41.*,!=0.42.*,>=0.32.0 in /Users/gim-eung-gil/.pyenv/versions/3.13.5/envs/inflearn-llm-application/lib/python3.13/site-packages (from kubernetes>=28.1.0->chromadb>=1.0.9->langchain-chroma) (1.8.0)\n",
      "Requirement already satisfied: requests-oauthlib in /Users/gim-eung-gil/.pyenv/versions/3.13.5/envs/inflearn-llm-application/lib/python3.13/site-packages (from kubernetes>=28.1.0->chromadb>=1.0.9->langchain-chroma) (2.0.0)\n",
      "Requirement already satisfied: oauthlib>=3.2.2 in /Users/gim-eung-gil/.pyenv/versions/3.13.5/envs/inflearn-llm-application/lib/python3.13/site-packages (from kubernetes>=28.1.0->chromadb>=1.0.9->langchain-chroma) (3.3.1)\n",
      "Requirement already satisfied: durationpy>=0.7 in /Users/gim-eung-gil/.pyenv/versions/3.13.5/envs/inflearn-llm-application/lib/python3.13/site-packages (from kubernetes>=28.1.0->chromadb>=1.0.9->langchain-chroma) (0.10)\n",
      "Requirement already satisfied: cachetools<6.0,>=2.0.0 in /Users/gim-eung-gil/.pyenv/versions/3.13.5/envs/inflearn-llm-application/lib/python3.13/site-packages (from google-auth>=1.0.1->kubernetes>=28.1.0->chromadb>=1.0.9->langchain-chroma) (5.5.2)\n",
      "Requirement already satisfied: pyasn1-modules>=0.2.1 in /Users/gim-eung-gil/.pyenv/versions/3.13.5/envs/inflearn-llm-application/lib/python3.13/site-packages (from google-auth>=1.0.1->kubernetes>=28.1.0->chromadb>=1.0.9->langchain-chroma) (0.4.2)\n",
      "Requirement already satisfied: rsa<5,>=3.1.4 in /Users/gim-eung-gil/.pyenv/versions/3.13.5/envs/inflearn-llm-application/lib/python3.13/site-packages (from google-auth>=1.0.1->kubernetes>=28.1.0->chromadb>=1.0.9->langchain-chroma) (4.9.1)\n",
      "Requirement already satisfied: pyasn1>=0.1.3 in /Users/gim-eung-gil/.pyenv/versions/3.13.5/envs/inflearn-llm-application/lib/python3.13/site-packages (from rsa<5,>=3.1.4->google-auth>=1.0.1->kubernetes>=28.1.0->chromadb>=1.0.9->langchain-chroma) (0.6.1)\n",
      "Requirement already satisfied: langsmith>=0.3.45 in /Users/gim-eung-gil/.pyenv/versions/3.13.5/envs/inflearn-llm-application/lib/python3.13/site-packages (from langchain-core>=0.3.70->langchain-chroma) (0.4.10)\n",
      "Requirement already satisfied: jsonpatch<2.0,>=1.33 in /Users/gim-eung-gil/.pyenv/versions/3.13.5/envs/inflearn-llm-application/lib/python3.13/site-packages (from langchain-core>=0.3.70->langchain-chroma) (1.33)\n",
      "Requirement already satisfied: jsonpointer>=1.9 in /Users/gim-eung-gil/.pyenv/versions/3.13.5/envs/inflearn-llm-application/lib/python3.13/site-packages (from jsonpatch<2.0,>=1.33->langchain-core>=0.3.70->langchain-chroma) (3.0.0)\n",
      "Requirement already satisfied: requests-toolbelt>=1.0.0 in /Users/gim-eung-gil/.pyenv/versions/3.13.5/envs/inflearn-llm-application/lib/python3.13/site-packages (from langsmith>=0.3.45->langchain-core>=0.3.70->langchain-chroma) (1.0.0)\n",
      "Requirement already satisfied: zstandard>=0.23.0 in /Users/gim-eung-gil/.pyenv/versions/3.13.5/envs/inflearn-llm-application/lib/python3.13/site-packages (from langsmith>=0.3.45->langchain-core>=0.3.70->langchain-chroma) (0.23.0)\n",
      "Requirement already satisfied: annotated-types>=0.6.0 in /Users/gim-eung-gil/.pyenv/versions/3.13.5/envs/inflearn-llm-application/lib/python3.13/site-packages (from pydantic>=1.9->chromadb>=1.0.9->langchain-chroma) (0.7.0)\n",
      "Requirement already satisfied: pydantic-core==2.33.2 in /Users/gim-eung-gil/.pyenv/versions/3.13.5/envs/inflearn-llm-application/lib/python3.13/site-packages (from pydantic>=1.9->chromadb>=1.0.9->langchain-chroma) (2.33.2)\n",
      "Requirement already satisfied: typing-inspection>=0.4.0 in /Users/gim-eung-gil/.pyenv/versions/3.13.5/envs/inflearn-llm-application/lib/python3.13/site-packages (from pydantic>=1.9->chromadb>=1.0.9->langchain-chroma) (0.4.1)\n",
      "Requirement already satisfied: coloredlogs in /Users/gim-eung-gil/.pyenv/versions/3.13.5/envs/inflearn-llm-application/lib/python3.13/site-packages (from onnxruntime>=1.14.1->chromadb>=1.0.9->langchain-chroma) (15.0.1)\n",
      "Requirement already satisfied: flatbuffers in /Users/gim-eung-gil/.pyenv/versions/3.13.5/envs/inflearn-llm-application/lib/python3.13/site-packages (from onnxruntime>=1.14.1->chromadb>=1.0.9->langchain-chroma) (25.2.10)\n",
      "Requirement already satisfied: protobuf in /Users/gim-eung-gil/.pyenv/versions/3.13.5/envs/inflearn-llm-application/lib/python3.13/site-packages (from onnxruntime>=1.14.1->chromadb>=1.0.9->langchain-chroma) (6.31.1)\n",
      "Requirement already satisfied: sympy in /Users/gim-eung-gil/.pyenv/versions/3.13.5/envs/inflearn-llm-application/lib/python3.13/site-packages (from onnxruntime>=1.14.1->chromadb>=1.0.9->langchain-chroma) (1.14.0)\n",
      "Requirement already satisfied: importlib-metadata<8.8.0,>=6.0 in /Users/gim-eung-gil/.pyenv/versions/3.13.5/envs/inflearn-llm-application/lib/python3.13/site-packages (from opentelemetry-api>=1.2.0->chromadb>=1.0.9->langchain-chroma) (8.7.0)\n",
      "Requirement already satisfied: zipp>=3.20 in /Users/gim-eung-gil/.pyenv/versions/3.13.5/envs/inflearn-llm-application/lib/python3.13/site-packages (from importlib-metadata<8.8.0,>=6.0->opentelemetry-api>=1.2.0->chromadb>=1.0.9->langchain-chroma) (3.23.0)\n",
      "Requirement already satisfied: googleapis-common-protos~=1.57 in /Users/gim-eung-gil/.pyenv/versions/3.13.5/envs/inflearn-llm-application/lib/python3.13/site-packages (from opentelemetry-exporter-otlp-proto-grpc>=1.2.0->chromadb>=1.0.9->langchain-chroma) (1.70.0)\n",
      "Requirement already satisfied: opentelemetry-exporter-otlp-proto-common==1.36.0 in /Users/gim-eung-gil/.pyenv/versions/3.13.5/envs/inflearn-llm-application/lib/python3.13/site-packages (from opentelemetry-exporter-otlp-proto-grpc>=1.2.0->chromadb>=1.0.9->langchain-chroma) (1.36.0)\n",
      "Requirement already satisfied: opentelemetry-proto==1.36.0 in /Users/gim-eung-gil/.pyenv/versions/3.13.5/envs/inflearn-llm-application/lib/python3.13/site-packages (from opentelemetry-exporter-otlp-proto-grpc>=1.2.0->chromadb>=1.0.9->langchain-chroma) (1.36.0)\n",
      "Requirement already satisfied: opentelemetry-semantic-conventions==0.57b0 in /Users/gim-eung-gil/.pyenv/versions/3.13.5/envs/inflearn-llm-application/lib/python3.13/site-packages (from opentelemetry-sdk>=1.2.0->chromadb>=1.0.9->langchain-chroma) (0.57b0)\n",
      "Requirement already satisfied: markdown-it-py>=2.2.0 in /Users/gim-eung-gil/.pyenv/versions/3.13.5/envs/inflearn-llm-application/lib/python3.13/site-packages (from rich>=10.11.0->chromadb>=1.0.9->langchain-chroma) (3.0.0)\n",
      "Requirement already satisfied: pygments<3.0.0,>=2.13.0 in /Users/gim-eung-gil/.pyenv/versions/3.13.5/envs/inflearn-llm-application/lib/python3.13/site-packages (from rich>=10.11.0->chromadb>=1.0.9->langchain-chroma) (2.19.2)\n",
      "Requirement already satisfied: mdurl~=0.1 in /Users/gim-eung-gil/.pyenv/versions/3.13.5/envs/inflearn-llm-application/lib/python3.13/site-packages (from markdown-it-py>=2.2.0->rich>=10.11.0->chromadb>=1.0.9->langchain-chroma) (0.1.2)\n",
      "Requirement already satisfied: huggingface-hub<1.0,>=0.16.4 in /Users/gim-eung-gil/.pyenv/versions/3.13.5/envs/inflearn-llm-application/lib/python3.13/site-packages (from tokenizers>=0.13.2->chromadb>=1.0.9->langchain-chroma) (0.34.3)\n",
      "Requirement already satisfied: filelock in /Users/gim-eung-gil/.pyenv/versions/3.13.5/envs/inflearn-llm-application/lib/python3.13/site-packages (from huggingface-hub<1.0,>=0.16.4->tokenizers>=0.13.2->chromadb>=1.0.9->langchain-chroma) (3.18.0)\n",
      "Requirement already satisfied: fsspec>=2023.5.0 in /Users/gim-eung-gil/.pyenv/versions/3.13.5/envs/inflearn-llm-application/lib/python3.13/site-packages (from huggingface-hub<1.0,>=0.16.4->tokenizers>=0.13.2->chromadb>=1.0.9->langchain-chroma) (2025.7.0)\n",
      "Requirement already satisfied: hf-xet<2.0.0,>=1.1.3 in /Users/gim-eung-gil/.pyenv/versions/3.13.5/envs/inflearn-llm-application/lib/python3.13/site-packages (from huggingface-hub<1.0,>=0.16.4->tokenizers>=0.13.2->chromadb>=1.0.9->langchain-chroma) (1.1.5)\n",
      "Requirement already satisfied: click>=8.0.0 in /Users/gim-eung-gil/.pyenv/versions/3.13.5/envs/inflearn-llm-application/lib/python3.13/site-packages (from typer>=0.9.0->chromadb>=1.0.9->langchain-chroma) (8.2.1)\n",
      "Requirement already satisfied: shellingham>=1.3.0 in /Users/gim-eung-gil/.pyenv/versions/3.13.5/envs/inflearn-llm-application/lib/python3.13/site-packages (from typer>=0.9.0->chromadb>=1.0.9->langchain-chroma) (1.5.4)\n",
      "Requirement already satisfied: httptools>=0.6.3 in /Users/gim-eung-gil/.pyenv/versions/3.13.5/envs/inflearn-llm-application/lib/python3.13/site-packages (from uvicorn[standard]>=0.18.3->chromadb>=1.0.9->langchain-chroma) (0.6.4)\n",
      "Requirement already satisfied: python-dotenv>=0.13 in /Users/gim-eung-gil/.pyenv/versions/3.13.5/envs/inflearn-llm-application/lib/python3.13/site-packages (from uvicorn[standard]>=0.18.3->chromadb>=1.0.9->langchain-chroma) (1.1.1)\n",
      "Requirement already satisfied: uvloop>=0.15.1 in /Users/gim-eung-gil/.pyenv/versions/3.13.5/envs/inflearn-llm-application/lib/python3.13/site-packages (from uvicorn[standard]>=0.18.3->chromadb>=1.0.9->langchain-chroma) (0.21.0)\n",
      "Requirement already satisfied: watchfiles>=0.13 in /Users/gim-eung-gil/.pyenv/versions/3.13.5/envs/inflearn-llm-application/lib/python3.13/site-packages (from uvicorn[standard]>=0.18.3->chromadb>=1.0.9->langchain-chroma) (1.1.0)\n",
      "Requirement already satisfied: websockets>=10.4 in /Users/gim-eung-gil/.pyenv/versions/3.13.5/envs/inflearn-llm-application/lib/python3.13/site-packages (from uvicorn[standard]>=0.18.3->chromadb>=1.0.9->langchain-chroma) (15.0.1)\n",
      "Requirement already satisfied: sniffio>=1.1 in /Users/gim-eung-gil/.pyenv/versions/3.13.5/envs/inflearn-llm-application/lib/python3.13/site-packages (from anyio->httpx>=0.27.0->chromadb>=1.0.9->langchain-chroma) (1.3.1)\n",
      "Requirement already satisfied: humanfriendly>=9.1 in /Users/gim-eung-gil/.pyenv/versions/3.13.5/envs/inflearn-llm-application/lib/python3.13/site-packages (from coloredlogs->onnxruntime>=1.14.1->chromadb>=1.0.9->langchain-chroma) (10.0)\n",
      "Requirement already satisfied: mpmath<1.4,>=1.1.0 in /Users/gim-eung-gil/.pyenv/versions/3.13.5/envs/inflearn-llm-application/lib/python3.13/site-packages (from sympy->onnxruntime>=1.14.1->chromadb>=1.0.9->langchain-chroma) (1.3.0)\n",
      "\n",
      "\u001b[1m[\u001b[0m\u001b[34;49mnotice\u001b[0m\u001b[1;39;49m]\u001b[0m\u001b[39;49m A new release of pip is available: \u001b[0m\u001b[31;49m25.1.1\u001b[0m\u001b[39;49m -> \u001b[0m\u001b[32;49m25.2\u001b[0m\n",
      "\u001b[1m[\u001b[0m\u001b[34;49mnotice\u001b[0m\u001b[1;39;49m]\u001b[0m\u001b[39;49m To update, run: \u001b[0m\u001b[32;49mpip install --upgrade pip\u001b[0m\n",
      "Note: you may need to restart the kernel to use updated packages.\n"
     ]
    }
   ],
   "source": [
    "%pip install langchain-chroma"
   ]
  },
  {
   "cell_type": "code",
   "execution_count": 29,
   "id": "c329a6e6",
   "metadata": {},
   "outputs": [],
   "source": [
    "from langchain_chroma import Chroma\n",
    "\n",
    "# ./chroma에 저장된 내용 가져와서 필요없는건 주석\n",
    "\n",
    "#database = Chroma.from_documents(documents=document_list, embedding=embedding, collection_name=\"chroma_tax\" persist_directory=\"./chroma\")\n",
    "database = Chroma(collection_name=\"chroma_tax\", persist_directory=\"./chroma\", embedding_function=embedding)"
   ]
  },
  {
   "cell_type": "code",
   "execution_count": 30,
   "id": "d6afbd0a",
   "metadata": {},
   "outputs": [],
   "source": [
    "query = '연봉 5천만원인 직장인의 소득세는 얼마인가요?'\n",
    "#retrieved_docs = database.similarity_search(query, k=3)"
   ]
  },
  {
   "cell_type": "code",
   "execution_count": 31,
   "id": "df6ea657",
   "metadata": {},
   "outputs": [],
   "source": [
    "# retrieved_docs"
   ]
  },
  {
   "cell_type": "code",
   "execution_count": 32,
   "id": "21db8d1f",
   "metadata": {},
   "outputs": [],
   "source": [
    "from langchain_upstage import ChatUpstage\n",
    "\n",
    "llm = ChatUpstage(model=\"solar-pro2\")\n"
   ]
  },
  {
   "cell_type": "code",
   "execution_count": 33,
   "id": "e580ed21",
   "metadata": {},
   "outputs": [],
   "source": [
    "# prompt = f\"\"\"[Identity]\n",
    "# - 당신은 최고의 소득세 전문가 입니다\n",
    "# -[Context]를 참고해서 사용자의 질문에 답변해주세요\n",
    "\n",
    "# [Context]\n",
    "# {retrieved_docs}\n",
    "\n",
    "# Question: {query}\n",
    "# \"\"\""
   ]
  },
  {
   "cell_type": "code",
   "execution_count": 34,
   "id": "ed22ef5d",
   "metadata": {},
   "outputs": [],
   "source": [
    "# ai_message = llm.invoke(prompt)"
   ]
  },
  {
   "cell_type": "code",
   "execution_count": 35,
   "id": "be5a9487",
   "metadata": {},
   "outputs": [],
   "source": [
    "#ai_message.content"
   ]
  },
  {
   "cell_type": "code",
   "execution_count": 36,
   "id": "34466f81",
   "metadata": {},
   "outputs": [
    {
     "name": "stdout",
     "output_type": "stream",
     "text": [
      "\n",
      "\u001b[1m[\u001b[0m\u001b[34;49mnotice\u001b[0m\u001b[1;39;49m]\u001b[0m\u001b[39;49m A new release of pip is available: \u001b[0m\u001b[31;49m25.1.1\u001b[0m\u001b[39;49m -> \u001b[0m\u001b[32;49m25.2\u001b[0m\n",
      "\u001b[1m[\u001b[0m\u001b[34;49mnotice\u001b[0m\u001b[1;39;49m]\u001b[0m\u001b[39;49m To update, run: \u001b[0m\u001b[32;49mpip install --upgrade pip\u001b[0m\n",
      "Note: you may need to restart the kernel to use updated packages.\n"
     ]
    }
   ],
   "source": [
    "%pip install -U langchain langchainhub --quiet"
   ]
  },
  {
   "cell_type": "code",
   "execution_count": 37,
   "id": "4aadcbd9",
   "metadata": {},
   "outputs": [
    {
     "name": "stderr",
     "output_type": "stream",
     "text": [
      "/Users/gim-eung-gil/.pyenv/versions/3.13.5/envs/inflearn-llm-application/lib/python3.13/site-packages/langsmith/client.py:272: LangSmithMissingAPIKeyWarning: API key must be provided when using hosted LangSmith API\n",
      "  warnings.warn(\n"
     ]
    }
   ],
   "source": [
    "from langchain import hub\n",
    "\n",
    "prompt = hub.pull(\"rlm/rag-prompt\")"
   ]
  },
  {
   "cell_type": "code",
   "execution_count": 38,
   "id": "691c5d6f",
   "metadata": {},
   "outputs": [
    {
     "data": {
      "text/plain": [
       "ChatPromptTemplate(input_variables=['context', 'question'], input_types={}, partial_variables={}, metadata={'lc_hub_owner': 'rlm', 'lc_hub_repo': 'rag-prompt', 'lc_hub_commit_hash': '50442af133e61576e74536c6556cefe1fac147cad032f4377b60c436e6cdcb6e'}, messages=[HumanMessagePromptTemplate(prompt=PromptTemplate(input_variables=['context', 'question'], input_types={}, partial_variables={}, template=\"You are an assistant for question-answering tasks. Use the following pieces of retrieved context to answer the question. If you don't know the answer, just say that you don't know. Use three sentences maximum and keep the answer concise.\\nQuestion: {question} \\nContext: {context} \\nAnswer:\"), additional_kwargs={})])"
      ]
     },
     "execution_count": 38,
     "metadata": {},
     "output_type": "execute_result"
    }
   ],
   "source": [
    "prompt"
   ]
  },
  {
   "cell_type": "code",
   "execution_count": 39,
   "id": "45b58280",
   "metadata": {},
   "outputs": [],
   "source": [
    "from langchain.chains import RetrievalQA\n",
    "\n",
    "qa_chain = RetrievalQA.from_chain_type(\n",
    "  llm,\n",
    "  retriever=database.as_retriever(),\n",
    "  chain_type_kwargs={\"prompt\": prompt}\n",
    ")"
   ]
  },
  {
   "cell_type": "code",
   "execution_count": 40,
   "id": "ca03c8e4",
   "metadata": {},
   "outputs": [
    {
     "name": "stderr",
     "output_type": "stream",
     "text": [
      "/var/folders/5f/xcxvkkgj48g7kftgg_gb86dm0000gn/T/ipykernel_40846/3455095564.py:1: LangChainDeprecationWarning: The method `Chain.__call__` was deprecated in langchain 0.1.0 and will be removed in 1.0. Use :meth:`~invoke` instead.\n",
      "  ai_message = qa_chain({\"query\": query})\n"
     ]
    }
   ],
   "source": [
    "ai_message = qa_chain({\"query\": query})"
   ]
  },
  {
   "cell_type": "code",
   "execution_count": 41,
   "id": "208da03d",
   "metadata": {},
   "outputs": [
    {
     "data": {
      "text/plain": [
       "{'query': '연봉 5천만원인 직장인의 소득세는 얼마인가요?',\n",
       " 'result': '제공된 문맥에는 연봉 5천만원에 대한 소득세 계산 방법이 명시되어 있지 않습니다. 근로소득공제 및 세액공제에 대한 일부 규정이 있으나, 구체적인 세액 산정은 추가 정보가 필요합니다. 따라서 정확한 소득세를 알 수 없습니다.'}"
      ]
     },
     "execution_count": 41,
     "metadata": {},
     "output_type": "execute_result"
    }
   ],
   "source": [
    "ai_message"
   ]
  },
  {
   "cell_type": "code",
   "execution_count": null,
   "id": "3929027b",
   "metadata": {},
   "outputs": [],
   "source": []
  }
 ],
 "metadata": {
  "kernelspec": {
   "display_name": "inflearn-llm-application",
   "language": "python",
   "name": "python3"
  },
  "language_info": {
   "codemirror_mode": {
    "name": "ipython",
    "version": 3
   },
   "file_extension": ".py",
   "mimetype": "text/x-python",
   "name": "python",
   "nbconvert_exporter": "python",
   "pygments_lexer": "ipython3",
   "version": "3.13.5"
  }
 },
 "nbformat": 4,
 "nbformat_minor": 5
}
