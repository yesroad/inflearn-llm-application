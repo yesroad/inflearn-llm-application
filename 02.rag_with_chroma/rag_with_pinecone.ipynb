{
 "cells": [
  {
   "cell_type": "markdown",
   "id": "70cd6016",
   "metadata": {},
   "source": [
    "1. 문서의 내용을 읽는다 (docx2txt)\n",
    "2. 문서를 쪼갠다 (langchain-text-splitters)\n",
    "  - 토큰수 초과로 답변을 생성하지 못할수 있고\n",
    "  - 문서가 길면 (인풋이 길면) 답변 생성이 오래걸림\n",
    "3. 임베딩 -> 벡터 데이터베이스에 저장 (OpenAIEmbeddings, chroma)\n",
    "4. 질문이 있을 때, 백터 테이터베이스에 유사도 검색\n",
    "5. 유사도 검색으로 가져온 문서를 LLM에 질문과 같이 전달 (similarity_search)"
   ]
  },
  {
   "cell_type": "code",
   "execution_count": null,
   "id": "4673068d",
   "metadata": {},
   "outputs": [],
   "source": [
    "%pip install --upgrade --quiet  docx2txt langchain-community -qU langchain-text-splitters -U langchain langchainhub --quiet"
   ]
  },
  {
   "cell_type": "code",
   "execution_count": 28,
   "id": "c95a2353",
   "metadata": {},
   "outputs": [],
   "source": [
    "from langchain_community.document_loaders import Docx2txtLoader\n",
    "from langchain_text_splitters import RecursiveCharacterTextSplitter\n",
    "\n",
    "text_splitter = RecursiveCharacterTextSplitter(\n",
    "  chunk_size=1500, # 하나의 청크가 가질수있는 토큰수\n",
    "  chunk_overlap=200 # 청크 간 중복 토큰수\n",
    ")\n",
    "\n",
    "loader = Docx2txtLoader(\"./tax_with_markdown.docx\")\n",
    "\n",
    "document_list = loader.load_and_split(text_splitter=text_splitter)"
   ]
  },
  {
   "cell_type": "code",
   "execution_count": null,
   "id": "f9f65e49",
   "metadata": {},
   "outputs": [],
   "source": [
    "document_list[43]"
   ]
  },
  {
   "cell_type": "code",
   "execution_count": 42,
   "id": "675cf99e",
   "metadata": {},
   "outputs": [],
   "source": [
    "from dotenv import load_dotenv\n",
    "from langchain_openai import OpenAIEmbeddings\n",
    "\n",
    "# 환경변수를 불러옴\n",
    "load_dotenv()\n",
    "\n",
    "# OpenAI에서 제공하는 Embedding Model을 활용해서 `chunk`를 vector화\n",
    "embedding = OpenAIEmbeddings(model='text-embedding-3-large')"
   ]
  },
  {
   "cell_type": "code",
   "execution_count": null,
   "id": "2cb229ce",
   "metadata": {},
   "outputs": [],
   "source": [
    "import os\n",
    "\n",
    "from pinecone import Pinecone\n",
    "from langchain_pinecone import PineconeVectorStore\n",
    "\n",
    "index_name = 'tax-markdown-index' \n",
    "pinecone_api_key = os.environ.get(\"PINECONE_API_KEY\")\n",
    "pc = Pinecone(api_key=pinecone_api_key)\n",
    "\n",
    "database = PineconeVectorStore.from_documents(document_list, embedding, index_name=index_name)"
   ]
  },
  {
   "cell_type": "code",
   "execution_count": null,
   "id": "3d18c47c",
   "metadata": {},
   "outputs": [],
   "source": [
    "%pip install langchain-chroma"
   ]
  },
  {
   "cell_type": "code",
   "execution_count": null,
   "id": "2639f208",
   "metadata": {},
   "outputs": [],
   "source": [
    "%pip install -qU langchain langchain-pinecone langchain-openai"
   ]
  },
  {
   "cell_type": "code",
   "execution_count": 85,
   "id": "d6afbd0a",
   "metadata": {},
   "outputs": [],
   "source": [
    "query = '연봉 5,000만원인 직장인의 종합 소득세는?'"
   ]
  },
  {
   "cell_type": "code",
   "execution_count": 52,
   "id": "21db8d1f",
   "metadata": {},
   "outputs": [],
   "source": [
    "from langchain_openai import ChatOpenAI\n",
    "\n",
    "llm = ChatOpenAI(model='gpt-4o')\n"
   ]
  },
  {
   "cell_type": "code",
   "execution_count": null,
   "id": "4aadcbd9",
   "metadata": {},
   "outputs": [],
   "source": [
    "from langchain import hub\n",
    "\n",
    "prompt = hub.pull(\"rlm/rag-prompt\")"
   ]
  },
  {
   "cell_type": "code",
   "execution_count": null,
   "id": "0430d377",
   "metadata": {},
   "outputs": [],
   "source": [
    "retriever=database.as_retriever(search_kwargs={'k': 4})\n",
    "\n",
    "retriever.invoke(query)"
   ]
  },
  {
   "cell_type": "code",
   "execution_count": 55,
   "id": "45b58280",
   "metadata": {},
   "outputs": [],
   "source": [
    "from langchain.chains import RetrievalQA\n",
    "\n",
    "retriever=database.as_retriever()\n",
    "\n",
    "qa_chain = RetrievalQA.from_chain_type( \n",
    "  llm,\n",
    "  retriever=retriever,\n",
    "  chain_type_kwargs={\"prompt\": prompt}\n",
    ")\n",
    "# query -> 직장인 -> 거주자 변경 chain 추가\n",
    "ai_message = qa_chain({\"query\": query})"
   ]
  },
  {
   "cell_type": "code",
   "execution_count": null,
   "id": "208da03d",
   "metadata": {},
   "outputs": [],
   "source": [
    "ai_message"
   ]
  },
  {
   "cell_type": "code",
   "execution_count": 70,
   "id": "a45123f8",
   "metadata": {},
   "outputs": [],
   "source": [
    "from langchain_core.output_parsers import StrOutputParser\n",
    "from langchain_core.prompts import ChatPromptTemplate\n",
    "\n",
    "dictionary = ['사람을 나타내는 표현 -> 거주자']\n",
    "\n",
    "prompt = ChatPromptTemplate.from_template(f\"\"\"\n",
    "  사용자의 질문을 보고, 우리의 사전을 참고해서 사용자의 질문을 변경해주세요.\n",
    "  만약 변경할 필요가 없다고 판단된다면, 사용자의 질문을 변경하지 않아도 됩니다.\n",
    "  그런 경우에는 질문만 리턴해주세요\n",
    "  사전: {dictionary}\n",
    "\n",
    "  질문: {{question}}\n",
    "\"\"\")\n",
    "\n",
    "dictionary_chain = prompt | llm | StrOutputParser()"
   ]
  },
  {
   "cell_type": "code",
   "execution_count": null,
   "id": "e08aba9c",
   "metadata": {},
   "outputs": [],
   "source": [
    "query"
   ]
  },
  {
   "cell_type": "code",
   "execution_count": null,
   "id": "0639d026",
   "metadata": {},
   "outputs": [],
   "source": [
    "new_question=dictionary_chain.invoke({\"question\": query})\n",
    "\n",
    "new_question"
   ]
  },
  {
   "cell_type": "code",
   "execution_count": 78,
   "id": "e3624166",
   "metadata": {},
   "outputs": [],
   "source": [
    "tax_chain = {\"query\": dictionary_chain} | qa_chain"
   ]
  },
  {
   "cell_type": "code",
   "execution_count": 86,
   "id": "2444ba46",
   "metadata": {},
   "outputs": [],
   "source": [
    "ai_response = tax_chain.invoke({\"question\": query})"
   ]
  },
  {
   "cell_type": "code",
   "execution_count": null,
   "id": "b5585a91",
   "metadata": {},
   "outputs": [],
   "source": [
    "ai_response"
   ]
  }
 ],
 "metadata": {
  "kernelspec": {
   "display_name": "inflearn-llm-application",
   "language": "python",
   "name": "python3"
  },
  "language_info": {
   "codemirror_mode": {
    "name": "ipython",
    "version": 3
   },
   "file_extension": ".py",
   "mimetype": "text/x-python",
   "name": "python",
   "nbconvert_exporter": "python",
   "pygments_lexer": "ipython3",
   "version": "3.13.5"
  }
 },
 "nbformat": 4,
 "nbformat_minor": 5
}
